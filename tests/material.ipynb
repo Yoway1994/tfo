{
 "cells": [
  {
   "cell_type": "code",
   "execution_count": 90,
   "metadata": {},
   "outputs": [],
   "source": [
    "import numpy as np\n",
    "from scipy.optimize import minimize\n",
    "\n",
    "class material:\n",
    "    def __init__(self):\n",
    "        pass\n",
    "    \n",
    "    def n(self, wl_n, n):\n",
    "        self.wl_n = wl_n\n",
    "        self.n = n\n",
    "    \n",
    "    def k(self, wl_k, k):\n",
    "        self.wl_k = wl_k\n",
    "        self.k = k\n",
    "\n",
    "    def nk(self, wl, method = \"\"):\n",
    "        pass"
   ]
  }
 ],
 "metadata": {
  "kernelspec": {
   "display_name": "Python 3",
   "language": "python",
   "name": "python3"
  },
  "language_info": {
   "codemirror_mode": {
    "name": "ipython",
    "version": 3
   },
   "file_extension": ".py",
   "mimetype": "text/x-python",
   "name": "python",
   "nbconvert_exporter": "python",
   "pygments_lexer": "ipython3",
   "version": "3.7.0"
  }
 },
 "nbformat": 4,
 "nbformat_minor": 2
}
